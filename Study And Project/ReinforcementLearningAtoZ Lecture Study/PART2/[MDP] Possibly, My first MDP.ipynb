{
 "cells": [
  {
   "cell_type": "code",
   "execution_count": 1,
   "metadata": {},
   "outputs": [],
   "source": [
    "import sys; sys.path.append('..') # add project root to the python path"
   ]
  },
  {
   "cell_type": "code",
   "execution_count": 2,
   "metadata": {},
   "outputs": [],
   "source": [
    "from src.common.gridworld import GridworldEnv # Gridworld Environment"
   ]
  },
  {
   "cell_type": "code",
   "execution_count": 3,
   "metadata": {},
   "outputs": [],
   "source": [
    "num_y, num_x = 4, 4\n",
    "env = GridworldEnv(shape=[num_y, num_x])"
   ]
  },
  {
   "cell_type": "code",
   "execution_count": 4,
   "metadata": {},
   "outputs": [
    {
     "name": "stdout",
     "output_type": "stream",
     "text": [
      "Number of states: Discrete(16)\n",
      "Number of actions: Discrete(4)\n"
     ]
    }
   ],
   "source": [
    "observation_space = env.observation_space\n",
    "action_space = env.action_space\n",
    "print(\"Number of states: {}\".format(observation_space))\n",
    "print(\"Number of actions: {}\".format(action_space))"
   ]
  },
  {
   "cell_type": "code",
   "execution_count": 5,
   "metadata": {},
   "outputs": [],
   "source": [
    "import numpy as np # 파이썬에서 계산과학 및 수학계산을 위해서 많이 사용되는 라이브러리인 `numpy`를 불러옵니다."
   ]
  },
  {
   "cell_type": "code",
   "execution_count": 6,
   "metadata": {},
   "outputs": [],
   "source": [
    "num_row = 2\n",
    "num_col = 2 \n",
    "\n",
    "# [num_row x now_col] 행렬을 만듭니다. 이때 행렬의 각 원소는 임의의 값으로 채워집니다.\n",
    "rank2_tensor = np.random.random(size=(num_row,num_col)) "
   ]
  },
  {
   "cell_type": "code",
   "execution_count": 7,
   "metadata": {},
   "outputs": [
    {
     "name": "stdout",
     "output_type": "stream",
     "text": [
      "[[0.30604985 0.89335383]\n",
      " [0.26838695 0.90272819]]\n"
     ]
    }
   ],
   "source": [
    "print(rank2_tensor)"
   ]
  },
  {
   "cell_type": "code",
   "execution_count": 8,
   "metadata": {},
   "outputs": [
    {
     "name": "stdout",
     "output_type": "stream",
     "text": [
      "Tensor shape : (2, 2)\n",
      "Tensor rank : 2\n"
     ]
    }
   ],
   "source": [
    "tesor_shape = rank2_tensor.shape\n",
    "tensor_rank = len(tesor_shape)\n",
    "print(\"Tensor shape : {}\".format(tesor_shape))\n",
    "print(\"Tensor rank : {}\".format(tensor_rank))"
   ]
  },
  {
   "cell_type": "code",
   "execution_count": 9,
   "metadata": {},
   "outputs": [
    {
     "name": "stdout",
     "output_type": "stream",
     "text": [
      "P shape : (4, 16, 16)\n"
     ]
    }
   ],
   "source": [
    "P = env.P_tensor\n",
    "print(\"P shape : {}\".format(P.shape))"
   ]
  },
  {
   "cell_type": "code",
   "execution_count": 10,
   "metadata": {},
   "outputs": [],
   "source": [
    "# 행동 '상'(인덱스0)을 선택했을때 현재상태에서 다음상태로 전이하는 확률을 나타냄.\n",
    "action_up_prob = P[0, :, :]"
   ]
  },
  {
   "cell_type": "code",
   "execution_count": 11,
   "metadata": {},
   "outputs": [
    {
     "name": "stdout",
     "output_type": "stream",
     "text": [
      "[[1. 0. 0. 0. 0. 0. 0. 0. 0. 0. 0. 0. 0. 0. 0. 0.]\n",
      " [0. 1. 0. 0. 0. 0. 0. 0. 0. 0. 0. 0. 0. 0. 0. 0.]\n",
      " [0. 0. 1. 0. 0. 0. 0. 0. 0. 0. 0. 0. 0. 0. 0. 0.]\n",
      " [0. 0. 0. 1. 0. 0. 0. 0. 0. 0. 0. 0. 0. 0. 0. 0.]\n",
      " [1. 0. 0. 0. 0. 0. 0. 0. 0. 0. 0. 0. 0. 0. 0. 0.]\n",
      " [0. 1. 0. 0. 0. 0. 0. 0. 0. 0. 0. 0. 0. 0. 0. 0.]\n",
      " [0. 0. 1. 0. 0. 0. 0. 0. 0. 0. 0. 0. 0. 0. 0. 0.]\n",
      " [0. 0. 0. 1. 0. 0. 0. 0. 0. 0. 0. 0. 0. 0. 0. 0.]\n",
      " [0. 0. 0. 0. 1. 0. 0. 0. 0. 0. 0. 0. 0. 0. 0. 0.]\n",
      " [0. 0. 0. 0. 0. 1. 0. 0. 0. 0. 0. 0. 0. 0. 0. 0.]\n",
      " [0. 0. 0. 0. 0. 0. 1. 0. 0. 0. 0. 0. 0. 0. 0. 0.]\n",
      " [0. 0. 0. 0. 0. 0. 0. 1. 0. 0. 0. 0. 0. 0. 0. 0.]\n",
      " [0. 0. 0. 0. 0. 0. 0. 0. 1. 0. 0. 0. 0. 0. 0. 0.]\n",
      " [0. 0. 0. 0. 0. 0. 0. 0. 0. 1. 0. 0. 0. 0. 0. 0.]\n",
      " [0. 0. 0. 0. 0. 0. 0. 0. 0. 0. 1. 0. 0. 0. 0. 0.]\n",
      " [0. 0. 0. 0. 0. 0. 0. 0. 0. 0. 0. 0. 0. 0. 0. 1.]]\n"
     ]
    }
   ],
   "source": [
    "print(action_up_prob) "
   ]
  },
  {
   "cell_type": "code",
   "execution_count": 12,
   "metadata": {},
   "outputs": [
    {
     "data": {
      "text/plain": [
       "array([[ True,  True,  True,  True,  True,  True,  True,  True,  True,\n",
       "         True,  True,  True,  True,  True,  True,  True],\n",
       "       [ True,  True,  True,  True,  True,  True,  True,  True,  True,\n",
       "         True,  True,  True,  True,  True,  True,  True],\n",
       "       [ True,  True,  True,  True,  True,  True,  True,  True,  True,\n",
       "         True,  True,  True,  True,  True,  True,  True],\n",
       "       [ True,  True,  True,  True,  True,  True,  True,  True,  True,\n",
       "         True,  True,  True,  True,  True,  True,  True],\n",
       "       [ True,  True,  True,  True,  True,  True,  True,  True,  True,\n",
       "         True,  True,  True,  True,  True,  True,  True],\n",
       "       [ True,  True,  True,  True,  True,  True,  True,  True,  True,\n",
       "         True,  True,  True,  True,  True,  True,  True],\n",
       "       [ True,  True,  True,  True,  True,  True,  True,  True,  True,\n",
       "         True,  True,  True,  True,  True,  True,  True],\n",
       "       [ True,  True,  True,  True,  True,  True,  True,  True,  True,\n",
       "         True,  True,  True,  True,  True,  True,  True],\n",
       "       [ True,  True,  True,  True,  True,  True,  True,  True,  True,\n",
       "         True,  True,  True,  True,  True,  True,  True],\n",
       "       [ True,  True,  True,  True,  True,  True,  True,  True,  True,\n",
       "         True,  True,  True,  True,  True,  True,  True],\n",
       "       [ True,  True,  True,  True,  True,  True,  True,  True,  True,\n",
       "         True,  True,  True,  True,  True,  True,  True],\n",
       "       [ True,  True,  True,  True,  True,  True,  True,  True,  True,\n",
       "         True,  True,  True,  True,  True,  True,  True],\n",
       "       [ True,  True,  True,  True,  True,  True,  True,  True,  True,\n",
       "         True,  True,  True,  True,  True,  True,  True],\n",
       "       [ True,  True,  True,  True,  True,  True,  True,  True,  True,\n",
       "         True,  True,  True,  True,  True,  True,  True],\n",
       "       [ True,  True,  True,  True,  True,  True,  True,  True,  True,\n",
       "         True,  True,  True,  True,  True,  True,  True],\n",
       "       [ True,  True,  True,  True,  True,  True,  True,  True,  True,\n",
       "         True,  True,  True,  True,  True,  True,  True]])"
      ]
     },
     "execution_count": 12,
     "metadata": {},
     "output_type": "execute_result"
    }
   ],
   "source": [
    "action_up_prob >= 0"
   ]
  },
  {
   "cell_type": "code",
   "execution_count": 13,
   "metadata": {},
   "outputs": [],
   "source": [
    "is_greater_than_0 = action_up_prob >= 0\n",
    "is_all_greater_than_0 = is_greater_than_0.sum() == is_greater_than_0.size"
   ]
  },
  {
   "cell_type": "code",
   "execution_count": 14,
   "metadata": {},
   "outputs": [
    {
     "data": {
      "text/plain": [
       "True"
      ]
     },
     "execution_count": 14,
     "metadata": {},
     "output_type": "execute_result"
    }
   ],
   "source": [
    "is_all_greater_than_0"
   ]
  },
  {
   "cell_type": "code",
   "execution_count": 15,
   "metadata": {},
   "outputs": [
    {
     "data": {
      "text/plain": [
       "array([1., 1., 1., 1., 1., 1., 1., 1., 1., 1., 1., 1., 1., 1., 1., 1.])"
      ]
     },
     "execution_count": 15,
     "metadata": {},
     "output_type": "execute_result"
    }
   ],
   "source": [
    "action_up_prob.sum(axis=1) # 2 번째 축으로 합을 계산합니다. 파이썬은 숫자를 0부터 셉니다."
   ]
  },
  {
   "cell_type": "code",
   "execution_count": 16,
   "metadata": {},
   "outputs": [
    {
     "data": {
      "text/plain": [
       "array([1., 1., 1., 1., 1., 1., 1., 1., 1., 1., 1., 1., 1., 1., 1., 1.])"
      ]
     },
     "execution_count": 16,
     "metadata": {},
     "output_type": "execute_result"
    }
   ],
   "source": [
    "action_up_prob.sum(axis=-1) # '마지막' 축으로 합을 계산합니다."
   ]
  },
  {
   "cell_type": "code",
   "execution_count": 17,
   "metadata": {},
   "outputs": [
    {
     "name": "stdout",
     "output_type": "stream",
     "text": [
      "[[ 0.  0.  0.  0.]\n",
      " [-1. -1. -1. -1.]\n",
      " [-1. -1. -1. -1.]\n",
      " [-1. -1. -1. -1.]\n",
      " [-1. -1. -1. -1.]\n",
      " [-1. -1. -1. -1.]\n",
      " [-1. -1. -1. -1.]\n",
      " [-1. -1. -1. -1.]\n",
      " [-1. -1. -1. -1.]\n",
      " [-1. -1. -1. -1.]\n",
      " [-1. -1. -1. -1.]\n",
      " [-1. -1. -1. -1.]\n",
      " [-1. -1. -1. -1.]\n",
      " [-1. -1. -1. -1.]\n",
      " [-1. -1. -1. -1.]\n",
      " [ 0.  0.  0.  0.]]\n"
     ]
    }
   ],
   "source": [
    "R = env.R_tensor\n",
    "print(R)"
   ]
  },
  {
   "cell_type": "code",
   "execution_count": 18,
   "metadata": {},
   "outputs": [
    {
     "name": "stdout",
     "output_type": "stream",
     "text": [
      "Current position index : 13\n"
     ]
    }
   ],
   "source": [
    "_ = env.reset() # Gridworld 를 초기화합니다.\n",
    "print(\"Current position index : {}\".format(env.s))"
   ]
  },
  {
   "cell_type": "code",
   "execution_count": 19,
   "metadata": {},
   "outputs": [],
   "source": [
    "# 좀 더 직관적인 가시화를 위해서 action 인덱스를 방향으로 바꿔줍니다.\n",
    "action_mapper = {\n",
    "    0: 'UP',\n",
    "    1: 'RIGHT',\n",
    "    2: 'DOWN',\n",
    "    3: 'LEFT'\n",
    "}"
   ]
  },
  {
   "cell_type": "code",
   "execution_count": 20,
   "metadata": {
    "scrolled": false
   },
   "outputs": [
    {
     "name": "stdout",
     "output_type": "stream",
     "text": [
      "At t = 0\n",
      "==========\n",
      "T  o  o  o\n",
      "o  o  o  o\n",
      "o  o  o  o\n",
      "o  x  o  T\n",
      "==========\n",
      "state : 13\n",
      "aciton : RIGHT\n",
      "reward : -1.0\n",
      "next state : 14 \n",
      "\n",
      "At t = 1\n",
      "==========\n",
      "T  o  o  o\n",
      "o  o  o  o\n",
      "o  o  o  o\n",
      "o  o  x  T\n",
      "==========\n",
      "state : 14\n",
      "aciton : DOWN\n",
      "reward : -1.0\n",
      "next state : 14 \n",
      "\n",
      "At t = 2\n",
      "==========\n",
      "T  o  o  o\n",
      "o  o  o  o\n",
      "o  o  o  o\n",
      "o  o  x  T\n",
      "==========\n",
      "state : 14\n",
      "aciton : RIGHT\n",
      "reward : -1.0\n",
      "next state : 15 \n",
      "\n"
     ]
    }
   ],
   "source": [
    "step_counter = 0\n",
    "while True:\n",
    "    # [0,4) 에서 정수값 1개를 임의로 선택합니다. 기본적인 설정이 high 값은 포함하지 않는다는 것에 유의!        \n",
    "    print(\"At t = {}\".format(step_counter))\n",
    "    env._render()\n",
    "    \n",
    "    cur_state = env.s\n",
    "    action = np.random.randint(low=0, high=4)\n",
    "    next_state, reward, done, info = env.step(action)    \n",
    "    \n",
    "    print(\"state : {}\".format(cur_state))\n",
    "    print(\"aciton : {}\".format(action_mapper[action]))\n",
    "    print(\"reward : {}\".format(reward))\n",
    "    print(\"next state : {} \\n\".format(next_state))\n",
    "    step_counter += 1\n",
    "    if done:\n",
    "        break"
   ]
  },
  {
   "cell_type": "code",
   "execution_count": 21,
   "metadata": {},
   "outputs": [],
   "source": [
    "def run_episode(env, s0):\n",
    "    _ = env.reset() # Gridworld 를 초기화합니다.\n",
    "    env.s = s0\n",
    "    \n",
    "    step_counter = 0\n",
    "    while True:\n",
    "        action = np.random.randint(low=0, high=4)\n",
    "        next_state, reward, done, info = env.step(action)\n",
    "\n",
    "        step_counter += 1\n",
    "        if done:\n",
    "            break\n",
    "    return step_counter"
   ]
  },
  {
   "cell_type": "code",
   "execution_count": 22,
   "metadata": {},
   "outputs": [
    {
     "name": "stdout",
     "output_type": "stream",
     "text": [
      "Episode 0 | Length of episode : 10\n",
      "Episode 1 | Length of episode : 7\n",
      "Episode 2 | Length of episode : 23\n",
      "Episode 3 | Length of episode : 28\n",
      "Episode 4 | Length of episode : 6\n",
      "Episode 5 | Length of episode : 5\n",
      "Episode 6 | Length of episode : 13\n",
      "Episode 7 | Length of episode : 20\n",
      "Episode 8 | Length of episode : 7\n",
      "Episode 9 | Length of episode : 21\n"
     ]
    }
   ],
   "source": [
    "n_episodes = 10\n",
    "s0 = 6\n",
    "\n",
    "for i in range(n_episodes):\n",
    "    len_ep = run_episode(env, s0)\n",
    "    print(\"Episode {} | Length of episode : {}\".format(i, len_ep))"
   ]
  }
 ],
 "metadata": {
  "kernelspec": {
   "display_name": "Python 3",
   "language": "python",
   "name": "python3"
  },
  "language_info": {
   "codemirror_mode": {
    "name": "ipython",
    "version": 3
   },
   "file_extension": ".py",
   "mimetype": "text/x-python",
   "name": "python",
   "nbconvert_exporter": "python",
   "pygments_lexer": "ipython3",
   "version": "3.8.10"
  }
 },
 "nbformat": 4,
 "nbformat_minor": 4
}
