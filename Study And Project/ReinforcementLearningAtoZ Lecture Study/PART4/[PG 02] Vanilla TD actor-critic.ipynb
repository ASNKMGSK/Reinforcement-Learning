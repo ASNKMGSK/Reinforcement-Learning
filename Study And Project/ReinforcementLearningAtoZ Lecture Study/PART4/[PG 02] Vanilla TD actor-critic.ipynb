{
 "cells": [
  {
   "cell_type": "code",
   "execution_count": 1,
   "metadata": {},
   "outputs": [],
   "source": [
    "import sys; sys.path.append('..') # add project root to the python path"
   ]
  },
  {
   "cell_type": "code",
   "execution_count": 2,
   "metadata": {},
   "outputs": [],
   "source": [
    "import gym\n",
    "import torch\n",
    "\n",
    "from src.part3.MLP import MultiLayerPerceptron as MLP\n",
    "from src.part4.ActorCritic import TDActorCritic\n",
    "from src.common.train_utils import EMAMeter, to_tensor"
   ]
  },
  {
   "cell_type": "code",
   "execution_count": 3,
   "metadata": {},
   "outputs": [
    {
     "name": "stderr",
     "output_type": "stream",
     "text": [
      "C:\\Users\\joon0\\Anaconda3\\envs\\gpu_torch130\\lib\\site-packages\\gym\\logger.py:30: UserWarning: \u001b[33mWARN: Box bound precision lowered by casting to float32\u001b[0m\n",
      "  warnings.warn(colorize('%s: %s'%('WARN', msg % args), 'yellow'))\n"
     ]
    }
   ],
   "source": [
    "env = gym.make('CartPole-v1')\n",
    "s_dim = env.observation_space.shape[0]\n",
    "a_dim = env.action_space.n"
   ]
  },
  {
   "cell_type": "code",
   "execution_count": 4,
   "metadata": {},
   "outputs": [],
   "source": [
    "policy_net = MLP(s_dim, a_dim, [128])\n",
    "value_net = MLP(s_dim, 1, [128])\n",
    "\n",
    "agent = TDActorCritic(policy_net, value_net)\n",
    "ema = EMAMeter()"
   ]
  },
  {
   "cell_type": "code",
   "execution_count": 6,
   "metadata": {},
   "outputs": [
    {
     "name": "stdout",
     "output_type": "stream",
     "text": [
      "Episode 0 || EMA: 15.0 \n",
      "Episode 500 || EMA: 14.740729513782314 \n",
      "Episode 1000 || EMA: 71.29630030249417 \n",
      "Episode 1500 || EMA: 94.97525109548101 \n",
      "Episode 2000 || EMA: 39.13963542750589 \n",
      "Episode 2500 || EMA: 53.68169916203771 \n",
      "Episode 3000 || EMA: 155.9845074993321 \n",
      "Episode 3500 || EMA: 26.210668730810067 \n",
      "Episode 4000 || EMA: 17.22734178837546 \n",
      "Episode 4500 || EMA: 86.7583548005704 \n",
      "Episode 5000 || EMA: 9.71585051897232 \n",
      "Episode 5500 || EMA: 104.7753527800968 \n",
      "Episode 6000 || EMA: 9.521699917472723 \n",
      "Episode 6500 || EMA: 9.04936570210145 \n",
      "Episode 7000 || EMA: 10.231812839064318 \n",
      "Episode 7500 || EMA: 52.183884014729365 \n",
      "Episode 8000 || EMA: 9.057574187224324 \n",
      "Episode 8500 || EMA: 65.04465573021452 \n",
      "Episode 9000 || EMA: 68.72342462901513 \n",
      "Episode 9500 || EMA: 106.56567032821476 \n"
     ]
    }
   ],
   "source": [
    "n_eps = 10000\n",
    "print_every = 500\n",
    "\n",
    "for ep in range(n_eps):\n",
    "    s = env.reset()\n",
    "    cum_r = 0\n",
    "\n",
    "    while True:\n",
    "        s = to_tensor(s, size=(1, 4))\n",
    "        a = agent.get_action(s)\n",
    "        ns, r, done, info = env.step(a.item())\n",
    "        \n",
    "        ns = to_tensor(ns, size=(1,4))\n",
    "        agent.update(s, a.view(-1,1), r, ns, done)\n",
    "        \n",
    "        s = ns.numpy()\n",
    "        cum_r += r\n",
    "        if done:\n",
    "            break\n",
    "\n",
    "    ema.update(cum_r)\n",
    "    if ep % print_every == 0:\n",
    "        print(\"Episode {} || EMA: {} \".format(ep, ema.s))"
   ]
  }
 ],
 "metadata": {
  "kernelspec": {
   "display_name": "Python 3",
   "language": "python",
   "name": "python3"
  },
  "language_info": {
   "codemirror_mode": {
    "name": "ipython",
    "version": 3
   },
   "file_extension": ".py",
   "mimetype": "text/x-python",
   "name": "python",
   "nbconvert_exporter": "python",
   "pygments_lexer": "ipython3",
   "version": "3.8.10"
  }
 },
 "nbformat": 4,
 "nbformat_minor": 4
}
